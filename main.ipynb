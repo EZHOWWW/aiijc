{
 "cells": [
  {
   "cell_type": "markdown",
   "id": "ba661744",
   "metadata": {},
   "source": [
    "# Install libs"
   ]
  },
  {
   "cell_type": "code",
   "execution_count": 1,
   "id": "46ab20c0",
   "metadata": {},
   "outputs": [],
   "source": [
    "# !pip install ..."
   ]
  },
  {
   "cell_type": "markdown",
   "id": "4ea4cce1",
   "metadata": {},
   "source": [
    "# Import libs"
   ]
  },
  {
   "cell_type": "code",
   "execution_count": null,
   "id": "d0811965",
   "metadata": {},
   "outputs": [],
   "source": [
    "import torch"
   ]
  },
  {
   "cell_type": "markdown",
   "id": "6b452ca2",
   "metadata": {},
   "source": [
    "# Glabal variables and preferences"
   ]
  },
  {
   "cell_type": "code",
   "execution_count": null,
   "id": "f1575660",
   "metadata": {},
   "outputs": [
    {
     "name": "stdout",
     "output_type": "stream",
     "text": [
      "Using device: cuda\n"
     ]
    }
   ],
   "source": [
    "random_state = 69\n",
    "\n",
    "shared_folder = \"data\"\n",
    "\n",
    "device = torch.device(\"cuda\" if torch.cuda.is_available() else \"cpu\")\n",
    "print(\"Using device:\", device)"
   ]
  },
  {
   "cell_type": "markdown",
   "id": "7b301ea0",
   "metadata": {},
   "source": [
    "# Download Data\n",
    "The download may take 5-7 minutes."
   ]
  },
  {
   "cell_type": "code",
   "execution_count": null,
   "id": "05cf4409",
   "metadata": {},
   "outputs": [
    {
     "name": "stdout",
     "output_type": "stream",
     "text": [
      "Starting to process link: https://disk.yandex.ru/d/RRXJu9ZtEmSXzQ\n",
      "Direct download link obtained.\n",
      "Downloading file...\n",
      "File 'temp_download.zip' downloaded successfully.\n",
      "Unzipping archive to folder 'data'...\n",
      "Files successfully unzipped to 'data'.\n",
      "Temporary file 'temp_download.zip' has been removed.\n",
      "--------------------\n",
      "Starting to process link: https://disk.yandex.ru/d/TmbB7BsGzg1dQQ\n",
      "Direct download link obtained.\n",
      "Downloading file...\n",
      "File 'temp_download.zip' downloaded successfully.\n",
      "Unzipping archive to folder 'data'...\n",
      "Files successfully unzipped to 'data'.\n",
      "Temporary file 'temp_download.zip' has been removed.\n",
      "--------------------\n",
      "\n",
      "All operations completed!\n"
     ]
    }
   ],
   "source": [
    "import requests\n",
    "import zipfile\n",
    "import os\n",
    "from urllib.parse import urlencode\n",
    "\n",
    "\n",
    "def download_and_unzip_yandex_disk(public_url, extract_to_folder):\n",
    "    \"\"\"\n",
    "    Downloads and unzips a file from Yandex.Disk using a public link.\n",
    "\n",
    "    :param public_url: Public URL to the file on Yandex.Disk.\n",
    "    :param extract_to_folder: The folder where the archive will be extracted.\n",
    "    \"\"\"\n",
    "    print(f\"Starting to process link: {public_url}\")\n",
    "\n",
    "    # 1. Get the direct download link from the Yandex.Disk API\n",
    "    base_api_url = \"https://cloud-api.yandex.net/v1/disk/public/resources/download?\"\n",
    "    api_url = base_api_url + urlencode(dict(public_key=public_url))\n",
    "\n",
    "    try:\n",
    "        response = requests.get(api_url)\n",
    "        response.raise_for_status()  # Check for HTTP errors\n",
    "        download_url = response.json().get(\"href\")\n",
    "\n",
    "        if not download_url:\n",
    "            print(f\"Error: Could not get a direct download link for {public_url}\")\n",
    "            return\n",
    "\n",
    "        print(\"Direct download link obtained.\")\n",
    "\n",
    "        # 2. Download the file\n",
    "        print(\"Downloading file...\")\n",
    "        download_response = requests.get(download_url)\n",
    "        download_response.raise_for_status()\n",
    "\n",
    "        # Temporary name for the zip file\n",
    "        zip_filename = \"temp_download.zip\"\n",
    "\n",
    "        with open(zip_filename, \"wb\") as f:\n",
    "            f.write(download_response.content)\n",
    "        print(f\"File '{zip_filename}' downloaded successfully.\")\n",
    "\n",
    "        # 3. Unzip the archive\n",
    "        print(f\"Unzipping archive to folder '{extract_to_folder}'...\")\n",
    "        if not os.path.exists(extract_to_folder):\n",
    "            os.makedirs(extract_to_folder)\n",
    "\n",
    "        with zipfile.ZipFile(zip_filename, \"r\") as zip_ref:\n",
    "            zip_ref.extractall(extract_to_folder)\n",
    "        print(f\"Files successfully unzipped to '{extract_to_folder}'.\")\n",
    "\n",
    "        # 4. Remove the downloaded zip archive\n",
    "        os.remove(zip_filename)\n",
    "        print(f\"Temporary file '{zip_filename}' has been removed.\")\n",
    "\n",
    "    except requests.exceptions.RequestException as e:\n",
    "        print(f\"A network or API error occurred: {e}\")\n",
    "        print(\"Tip: Make sure your environment can access 'cloud-api.yandex.net'.\")\n",
    "    except Exception as e:\n",
    "        print(f\"An unexpected error occurred: {e}\")\n",
    "\n",
    "\n",
    "# --- MAIN SCRIPT ---\n",
    "# Define the files to be downloaded\n",
    "files_to_download = {\n",
    "    \"train\": {\n",
    "        \"url\": \"https://disk.yandex.ru/d/RRXJu9ZtEmSXzQ\",  # Use the standard share link\n",
    "        \"folder\": shared_folder,\n",
    "    },\n",
    "    \"test\": {\n",
    "        \"url\": \"https://disk.yandex.ru/d/TmbB7BsGzg1dQQ\",  # Use the standard share link\n",
    "        \"folder\": shared_folder,\n",
    "    },\n",
    "}\n",
    "\n",
    "# Start the process for each file\n",
    "for key, data in files_to_download.items():\n",
    "    download_and_unzip_yandex_disk(data[\"url\"], data[\"folder\"])\n",
    "    print(\"-\" * 20)\n",
    "\n",
    "print(\"\\nAll operations completed!\")"
   ]
  },
  {
   "cell_type": "code",
   "execution_count": null,
   "id": "3e8f7255",
   "metadata": {},
   "outputs": [],
   "source": []
  }
 ],
 "metadata": {
  "kernelspec": {
   "display_name": "base",
   "language": "python",
   "name": "python3"
  },
  "language_info": {
   "codemirror_mode": {
    "name": "ipython",
    "version": 3
   },
   "file_extension": ".py",
   "mimetype": "text/x-python",
   "name": "python",
   "nbconvert_exporter": "python",
   "pygments_lexer": "ipython3",
   "version": "3.13.3"
  }
 },
 "nbformat": 4,
 "nbformat_minor": 5
}
