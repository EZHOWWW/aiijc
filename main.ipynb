{
 "cells": [
  {
   "cell_type": "markdown",
   "id": "ba661744",
   "metadata": {},
   "source": [
    "# Install libs"
   ]
  },
  {
   "cell_type": "code",
   "execution_count": null,
   "id": "46ab20c0",
   "metadata": {},
   "outputs": [],
   "source": [
    "# !pip install ..."
   ]
  },
  {
   "cell_type": "markdown",
   "id": "4ea4cce1",
   "metadata": {},
   "source": [
    "# Import libs"
   ]
  },
  {
   "cell_type": "code",
   "execution_count": 1,
   "id": "d0811965",
   "metadata": {},
   "outputs": [],
   "source": [
    "# import ..."
   ]
  },
  {
   "cell_type": "markdown",
   "id": "7b301ea0",
   "metadata": {},
   "source": [
    "# Download Data"
   ]
  },
  {
   "cell_type": "code",
   "execution_count": null,
   "id": "05cf4409",
   "metadata": {},
   "outputs": [
    {
     "name": "stdout",
     "output_type": "stream",
     "text": [
      "\u001b[31mERROR: Could not find a version that satisfies the requirement zipfile (from versions: none)\u001b[0m\u001b[31m\n",
      "\u001b[0m\u001b[31mERROR: No matching distribution found for zipfile\u001b[0m\u001b[31m\n",
      "\u001b[0mНачинаю обработку ссылки: https://disk.yandex.ru/d/RRXJu9ZtEmSXzQ\n",
      "Прямая ссылка на скачивание получена.\n",
      "Скачивание файла...\n",
      "Файл 'temp_download.zip' успешно скачан.\n",
      "Распаковка архива в папку 'train_data'...\n",
      "Файлы успешно распакованы в 'train_data'.\n",
      "Временный файл 'temp_download.zip' удален.\n",
      "--------------------\n",
      "Начинаю обработку ссылки: https://disk.yandex.ru/d/TmbB7BsGzg1dQQ\n",
      "Прямая ссылка на скачивание получена.\n",
      "Скачивание файла...\n",
      "Файл 'temp_download.zip' успешно скачан.\n",
      "Распаковка архива в папку 'test_data'...\n",
      "Файлы успешно распакованы в 'test_data'.\n",
      "Временный файл 'temp_download.zip' удален.\n",
      "--------------------\n",
      "\n",
      "Все операции завершены!\n"
     ]
    }
   ],
   "source": [
    "import requests\n",
    "import zipfile\n",
    "import os\n",
    "from urllib.parse import urlencode\n",
    "\n",
    "\n",
    "def download_and_unzip_yandex_disk(public_url, extract_to_folder):\n",
    "    \"\"\"\n",
    "    Скачивает и распаковывает файл с Яндекс.Диска по публичной ссылке.\n",
    "\n",
    "    :param public_url: Публичная ссылка на файл на Яндекс.Диске.\n",
    "    :param extract_to_folder: Папка, куда нужно распаковать архив.\n",
    "    \"\"\"\n",
    "    print(f\"Начинаю обработку ссылки: {public_url}\")\n",
    "\n",
    "    # 1. Получаем прямую ссылку для скачивания\n",
    "    base_api_url = \"https://cloud-api.yandex.net/v1/disk/public/resources/download?\"\n",
    "    api_url = base_api_url + urlencode(dict(public_key=public_url))\n",
    "\n",
    "    try:\n",
    "        response = requests.get(api_url)\n",
    "        response.raise_for_status()  # Проверяем на ошибки HTTP\n",
    "        download_url = response.json().get(\"href\")\n",
    "\n",
    "        if not download_url:\n",
    "            print(f\"Ошибка: Не удалось получить прямую ссылку для {public_url}\")\n",
    "            return\n",
    "\n",
    "        print(\"Прямая ссылка на скачивание получена.\")\n",
    "\n",
    "        # 2. Скачиваем файл\n",
    "        print(\"Скачивание файла...\")\n",
    "        download_response = requests.get(download_url)\n",
    "        download_response.raise_for_status()\n",
    "\n",
    "        # Временное имя для zip файла\n",
    "        zip_filename = \"temp_download.zip\"\n",
    "\n",
    "        with open(zip_filename, \"wb\") as f:\n",
    "            f.write(download_response.content)\n",
    "        print(f\"Файл '{zip_filename}' успешно скачан.\")\n",
    "\n",
    "        # 3. Распаковываем архив\n",
    "        print(f\"Распаковка архива в папку '{extract_to_folder}'...\")\n",
    "        if not os.path.exists(extract_to_folder):\n",
    "            os.makedirs(extract_to_folder)\n",
    "\n",
    "        with zipfile.ZipFile(zip_filename, \"r\") as zip_ref:\n",
    "            zip_ref.extractall(extract_to_folder)\n",
    "        print(f\"Файлы успешно распакованы в '{extract_to_folder}'.\")\n",
    "\n",
    "        # 4. Удаляем скачанный zip-архив\n",
    "        os.remove(zip_filename)\n",
    "        print(f\"Временный файл '{zip_filename}' удален.\")\n",
    "\n",
    "    except requests.exceptions.RequestException as e:\n",
    "        print(f\"Произошла ошибка сети или API: {e}\")\n",
    "        print(\"Совет: Убедитесь, что ваша среда имеет доступ к 'cloud-api.yandex.net'.\")\n",
    "    except Exception as e:\n",
    "        print(f\"Произошла непредвиденная ошибка: {e}\")\n",
    "\n",
    "\n",
    "# --- ОСНОВНОЙ КОД ---\n",
    "# Определяем наши данные\n",
    "files_to_download = {\n",
    "    \"train\": {\n",
    "        \"url\": \"https://disk.yandex.ru/d/RRXJu9ZtEmSXzQ\",  # Используйте стандартную ссылку\n",
    "        \"folder\": \"train_data\",\n",
    "    },\n",
    "    \"test\": {\n",
    "        \"url\": \"https://disk.yandex.ru/d/TmbB7BsGzg1dQQ\",  # Используйте стандартную ссылку\n",
    "        \"folder\": \"test_data\",\n",
    "    },\n",
    "}\n",
    "\n",
    "# Запускаем процесс для каждого файла\n",
    "for key, data in files_to_download.items():\n",
    "    download_and_unzip_yandex_disk(data[\"url\"], data[\"folder\"])\n",
    "    print(\"-\" * 20)\n",
    "\n",
    "print(\"\\nВсе операции завершены!\")\n"
   ]
  }
 ],
 "metadata": {
  "kernelspec": {
   "display_name": "pylabenv",
   "language": "python",
   "name": "python3"
  },
  "language_info": {
   "codemirror_mode": {
    "name": "ipython",
    "version": 3
   },
   "file_extension": ".py",
   "mimetype": "text/x-python",
   "name": "python",
   "nbconvert_exporter": "python",
   "pygments_lexer": "ipython3",
   "version": "3.13.3"
  }
 },
 "nbformat": 4,
 "nbformat_minor": 5
}
