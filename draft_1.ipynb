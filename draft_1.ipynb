{
 "cells": [
  {
   "cell_type": "code",
   "execution_count": 1,
   "id": "42db1dc4-d16e-425b-9e9f-9272c32a4000",
   "metadata": {},
   "outputs": [
    {
     "name": "stdout",
     "output_type": "stream",
     "text": [
      "Requirement already satisfied: torch in d:\\anaconda\\envs\\aiijc_2025\\lib\\site-packages (2.7.1)\n",
      "Requirement already satisfied: torchvision in d:\\anaconda\\envs\\aiijc_2025\\lib\\site-packages (0.22.1)\n",
      "Requirement already satisfied: pillow in d:\\anaconda\\envs\\aiijc_2025\\lib\\site-packages (11.3.0)\n",
      "Requirement already satisfied: numpy in d:\\anaconda\\envs\\aiijc_2025\\lib\\site-packages (2.3.2)\n",
      "Requirement already satisfied: filelock in d:\\anaconda\\envs\\aiijc_2025\\lib\\site-packages (from torch) (3.18.0)\n",
      "Requirement already satisfied: typing-extensions>=4.10.0 in d:\\anaconda\\envs\\aiijc_2025\\lib\\site-packages (from torch) (4.12.2)\n",
      "Requirement already satisfied: sympy>=1.13.3 in d:\\anaconda\\envs\\aiijc_2025\\lib\\site-packages (from torch) (1.14.0)\n",
      "Requirement already satisfied: networkx in d:\\anaconda\\envs\\aiijc_2025\\lib\\site-packages (from torch) (3.5)\n",
      "Requirement already satisfied: jinja2 in d:\\anaconda\\envs\\aiijc_2025\\lib\\site-packages (from torch) (3.1.6)\n",
      "Requirement already satisfied: fsspec in d:\\anaconda\\envs\\aiijc_2025\\lib\\site-packages (from torch) (2025.7.0)\n",
      "Requirement already satisfied: setuptools in d:\\anaconda\\envs\\aiijc_2025\\lib\\site-packages (from torch) (78.1.1)\n",
      "Requirement already satisfied: mpmath<1.4,>=1.1.0 in d:\\anaconda\\envs\\aiijc_2025\\lib\\site-packages (from sympy>=1.13.3->torch) (1.3.0)\n",
      "Requirement already satisfied: MarkupSafe>=2.0 in d:\\anaconda\\envs\\aiijc_2025\\lib\\site-packages (from jinja2->torch) (3.0.2)\n"
     ]
    }
   ],
   "source": [
    "!pip install torch torchvision pillow numpy"
   ]
  },
  {
   "cell_type": "code",
   "execution_count": 10,
   "id": "a2ea7a0e-919b-4208-ad6c-b99d6c198f4b",
   "metadata": {},
   "outputs": [],
   "source": [
    "import os\n",
    "import torch\n",
    "import torchvision.models as models\n",
    "import torchvision.transforms as transforms\n",
    "from PIL import Image\n",
    "import numpy as np\n",
    "from stl import mesh  # Для загрузки STL-файлов\n",
    "from torch_geometric.data import Data\n",
    "from torch_geometric.nn import global_max_pool\n",
    "from sklearn.metrics.pairwise import cosine_similarity\n",
    "import warnings\n",
    "warnings.filterwarnings(\"ignore\")"
   ]
  },
  {
   "cell_type": "code",
   "execution_count": null,
   "id": "2254bd93-6b2b-4431-859d-3721b5c02308",
   "metadata": {},
   "outputs": [],
   "source": [
    "# Блоки векторизации изображений"
   ]
  },
  {
   "cell_type": "code",
   "execution_count": 2,
   "id": "4c3f5002-75fb-4ec5-912b-b6ad1f1d6c55",
   "metadata": {},
   "outputs": [],
   "source": [
    "input_dir = \"train/train_data/images\"  # папка с исходными изображениями\n",
    "output_dir = \"train/images/image_vector\"  # папка для сохранения векторов\n",
    "os.makedirs(output_dir, exist_ok=True)\n",
    "\n",
    "# Загрузка модели ResNet-50\n",
    "model = models.resnet50(pretrained=True)\n",
    "model = torch.nn.Sequential(*(list(model.children())[:-1]))  # удаляем последний слой\n",
    "model.eval()\n",
    "\n",
    "# Трансформации для изображения\n",
    "transform = transforms.Compose([\n",
    "    transforms.Resize(256),\n",
    "    transforms.CenterCrop(224),\n",
    "    transforms.Lambda(lambda x: x.convert('RGB') if x.mode != 'RGB' else x),  # конвертируем в RGB если нужно\n",
    "    transforms.ToTensor(),\n",
    "    transforms.Normalize(mean=[0.485, 0.456, 0.406], std=[0.229, 0.224, 0.225]),\n",
    "])"
   ]
  },
  {
   "cell_type": "code",
   "execution_count": 4,
   "id": "124e7660-64f1-4874-90cc-ce4171aa0330",
   "metadata": {},
   "outputs": [
    {
     "name": "stdout",
     "output_type": "stream",
     "text": [
      "Обработано: 0000_0.png -> 0000_0_image_vector.npy\n",
      "Обработано: 0100_0.png -> 0100_0_image_vector.npy\n",
      "Обработано: 0200_0.png -> 0200_0_image_vector.npy\n",
      "Обработано: 0300_0.png -> 0300_0_image_vector.npy\n",
      "Обработано: 0400_0.png -> 0400_0_image_vector.npy\n",
      "Обработано: 0500_0.png -> 0500_0_image_vector.npy\n",
      "Обработка всех изображений завершена!\n"
     ]
    }
   ],
   "source": [
    "# Перебор всех изображений в папке\n",
    "for filename in os.listdir(input_dir):\n",
    "    if filename.lower().endswith(('.png', '.jpg', '.jpeg')):  # проверяем расширение\n",
    "        try:\n",
    "            # Полный путь к изображению\n",
    "            image_path = os.path.join(input_dir, filename)\n",
    "            \n",
    "            # Загрузка и преобразование изображения\n",
    "            image = Image.open(image_path)\n",
    "            image_tensor = transform(image).unsqueeze(0)\n",
    "            \n",
    "            # Извлечение признаков\n",
    "            with torch.no_grad():\n",
    "                features = model(image_tensor)\n",
    "                features = features.squeeze().numpy()  # сразу в numpy\n",
    "\n",
    "            # L2-нормализация\n",
    "            features = features / np.linalg.norm(features)\n",
    "            \n",
    "            # Формируем имя выходного файла (без расширения + '_image_vector.npy')\n",
    "            base_name = os.path.splitext(filename)[0]\n",
    "            output_filename = f\"{base_name}_image_vector.npy\"\n",
    "            output_path = os.path.join(output_dir, output_filename)\n",
    "            \n",
    "            # Сохранение вектора\n",
    "            np.save(output_path, features)\n",
    "            if '00_0' in filename:\n",
    "                print(f\"Обработано: {filename} -> {output_filename}\")\n",
    "            \n",
    "        except Exception as e:\n",
    "            print(f\"Ошибка при обработке {filename}: {str(e)}\")\n",
    "\n",
    "print(\"Обработка всех изображений завершена!\")"
   ]
  },
  {
   "cell_type": "code",
   "execution_count": null,
   "id": "5a9ed19b-5dab-4cbd-8c33-59ffe40ddff9",
   "metadata": {},
   "outputs": [],
   "source": [
    "# Блоки векторизации STL"
   ]
  },
  {
   "cell_type": "code",
   "execution_count": 13,
   "id": "9ac2b87e-9702-437a-9833-9ce3768434db",
   "metadata": {},
   "outputs": [],
   "source": [
    "input_dir = \"train/train_data/models\"  # Папка с STL-файлами\n",
    "output_dir = \"train/images/model_vector\"  # Папка для сохранения векторов\n",
    "os.makedirs(output_dir, exist_ok=True)\n",
    "\n",
    "# Упрощенная реализация PointNet (без трансформационных сетей)\n",
    "class PointNet(torch.nn.Module):\n",
    "    def __init__(self, out_dim=2048):\n",
    "        super().__init__()\n",
    "        self.conv1 = torch.nn.Conv1d(3, 64, 1)\n",
    "        self.conv2 = torch.nn.Conv1d(64, 128, 1)\n",
    "        self.conv3 = torch.nn.Conv1d(128, out_dim, 1)  # Фиксируем out_dim\n",
    "        self.bn1 = torch.nn.BatchNorm1d(64)\n",
    "        self.bn2 = torch.nn.BatchNorm1d(128)\n",
    "        self.bn3 = torch.nn.BatchNorm1d(out_dim)\n",
    "        \n",
    "    def forward(self, x):\n",
    "        x = torch.relu(self.bn1(self.conv1(x)))\n",
    "        x = torch.relu(self.bn2(self.conv2(x)))\n",
    "        x = self.bn3(self.conv3(x))  # Размер: (batch_size, 2048, num_points)\n",
    "        return torch.max(x, dim=-1)[0]  # Глобальный макс-пулинг -> (batch_size, 2048)\n",
    "\n",
    "def stl_to_point_cloud(stl_path, num_points=1024):\n",
    "    \"\"\"Преобразование STL в облако точек с нормализацией\"\"\"\n",
    "    stl_mesh = mesh.Mesh.from_file(stl_path)\n",
    "    points = stl_mesh.vectors.reshape(-1, 3)\n",
    "    if len(points) > num_points:\n",
    "        points = points[np.random.choice(len(points), num_points, replace=False)]\n",
    "    points -= np.mean(points, axis=0)\n",
    "    points /= np.max(np.abs(points))\n",
    "    return torch.tensor(points, dtype=torch.float32).T  # (3, N)\n",
    "\n",
    "# Инициализация модели\n",
    "model = PointNet(out_dim=2048)\n",
    "model.eval()\n",
    "\n",
    "def stl_to_point_cloud(stl_path, num_points=1024):\n",
    "    \"\"\"Загрузка STL и преобразование в облако точек\"\"\"\n",
    "    stl_mesh = mesh.Mesh.from_file(stl_path)\n",
    "    points = stl_mesh.vectors.reshape(-1, 3)  # Все вершины треугольников\n",
    "    \n",
    "    # Если точек слишком много, делаем случайную выборку\n",
    "    if len(points) > num_points:\n",
    "        indices = np.random.choice(len(points), num_points, replace=False)\n",
    "        points = points[indices]\n",
    "    \n",
    "    # Нормализация в единичный куб\n",
    "    points -= np.mean(points, axis=0)\n",
    "    points /= np.max(np.abs(points))\n",
    "    return torch.tensor(points, dtype=torch.float32).T  # (3, N)"
   ]
  },
  {
   "cell_type": "code",
   "execution_count": 14,
   "id": "6413279f-df3f-4b88-a66d-d37e6ba5f05d",
   "metadata": {},
   "outputs": [
    {
     "name": "stdout",
     "output_type": "stream",
     "text": [
      "Обработка всех STL-файлов завершена!\n"
     ]
    }
   ],
   "source": [
    "# Обработка всех STL-файлов\n",
    "for filename in os.listdir(input_dir):\n",
    "    if filename.lower().endswith('.stl'):\n",
    "        try:\n",
    "            stl_path = os.path.join(input_dir, filename)\n",
    "            \n",
    "            # Преобразование STL в облако точек\n",
    "            point_cloud = stl_to_point_cloud(stl_path)\n",
    "            \n",
    "            # Извлечение признаков\n",
    "            with torch.no_grad():\n",
    "                features = model(point_cloud.unsqueeze(0))  # Добавляем batch-размер\n",
    "                features = features.squeeze().numpy()\n",
    "            \n",
    "            # L2-нормализация\n",
    "            features = features / np.linalg.norm(features)\n",
    "            \n",
    "            # Сохранение вектора\n",
    "            base_name = os.path.splitext(filename)[0]\n",
    "            output_path = os.path.join(output_dir, f\"{base_name}_model_vector.npy\")\n",
    "            np.save(output_path, features)\n",
    "            \n",
    "            if '00_0' in filename:\n",
    "                print(f\"Обработано: {filename} -> {base_name}_model_vector.npy\")\n",
    "                \n",
    "        except Exception as e:\n",
    "            print(f\"Ошибка при обработке {filename}: {str(e)}\")\n",
    "\n",
    "print(\"Обработка всех STL-файлов завершена!\")"
   ]
  },
  {
   "cell_type": "code",
   "execution_count": null,
   "id": "b43f372a-a7a4-4734-8ab5-f528bd429f7f",
   "metadata": {},
   "outputs": [],
   "source": [
    "# Блок извлечения векторов из папок"
   ]
  },
  {
   "cell_type": "code",
   "execution_count": 16,
   "id": "436c8f91-44cf-4caa-90aa-3995074d542a",
   "metadata": {},
   "outputs": [],
   "source": [
    "# Указываем путь к папке с векторами\n",
    "folder_path = \"train/images/model_vector\"  # замените на реальный путь\n",
    "\n",
    "# Собираем все файлы .npy в папке\n",
    "npy_files = [f for f in os.listdir(folder_path) if f.endswith('.npy')]\n",
    "\n",
    "# Загружаем векторы в список\n",
    "model_vectors = []\n",
    "for file in npy_files:\n",
    "    vector = np.load(os.path.join(folder_path, file))\n",
    "    model_vectors.append(vector)\n",
    "\n",
    "\n",
    "folder_path = \"train/images/image_vector\"  # замените на реальный путь\n",
    "\n",
    "# Собираем все файлы .npy в папке\n",
    "npy_files = [f for f in os.listdir(folder_path) if f.endswith('.npy')]\n",
    "\n",
    "# Загружаем векторы в список\n",
    "image_vectors = []\n",
    "for file in npy_files:\n",
    "    vector = np.load(os.path.join(folder_path, file))\n",
    "    image_vectors.append(vector)\n",
    "\n",
    "#print([len(vec) for vec in model_vectors])  # Проверить длины model_vectors\n",
    "#print([len(vec) for vec in image_vectors])  # Проверить длины image_vectors\n",
    "# Преобразуем список в numpy-массив для удобства (если векторы одинаковой длины)\n"
   ]
  },
  {
   "cell_type": "code",
   "execution_count": 17,
   "id": "acd35e2a-83de-472d-8107-3f1f3afbfb4c",
   "metadata": {},
   "outputs": [],
   "source": [
    "model_vectors_array = np.array(model_vectors)\n",
    "image_vectors_array = np.array(image_vectors)"
   ]
  },
  {
   "cell_type": "code",
   "execution_count": null,
   "id": "c9391670-4f2f-47df-9803-7c84c2b686c0",
   "metadata": {},
   "outputs": [],
   "source": [
    "# Блоки поиска ближайших векторов."
   ]
  },
  {
   "cell_type": "code",
   "execution_count": 18,
   "id": "b9976da6-54ba-4c4a-b965-b954c0d157d9",
   "metadata": {},
   "outputs": [
    {
     "name": "stdout",
     "output_type": "stream",
     "text": [
      "Топ-5 ближайших векторов:\n",
      "0341_4_image_vector.npy: схожесть = 0.5105\n",
      "[0.02610345 0.0144286  0.01983626 ... 0.00265987 0.01200935 0.00739379]\n",
      "\n",
      "0178_20_image_vector.npy: схожесть = 0.5087\n",
      "[0.02269515 0.02856544 0.02481004 ... 0.00512752 0.00257433 0.00167598]\n",
      "\n",
      "0275_4_image_vector.npy: схожесть = 0.5086\n",
      "[0.03993442 0.00366707 0.00246136 ... 0.00545141 0.01913376 0.02416422]\n",
      "\n",
      "0340_10_image_vector.npy: схожесть = 0.5081\n",
      "[0.02199505 0.01686841 0.00882186 ... 0.00675416 0.02264574 0.00949392]\n",
      "\n",
      "0043_20_image_vector.npy: схожесть = 0.5077\n",
      "[0.02210515 0.0216442  0.01470946 ... 0.00113921 0.00097669 0.0069649 ]\n",
      "\n"
     ]
    }
   ],
   "source": [
    "query_vector = model_vectors_array[0].reshape(1, -1)  # Пример: ищем похожие на первый вектор\n",
    "similarities = cosine_similarity(query_vector, image_vectors_array).flatten()\n",
    "\n",
    "top5_indices = np.argsort(similarities)[::-1][1:6]\n",
    "top5_vectors = image_vectors_array[top5_indices]\n",
    "top5_files = [npy_files[i] for i in top5_indices]\n",
    "\n",
    "print(\"Топ-5 ближайших векторов:\")\n",
    "for vec, file, sim in zip(top5_vectors, top5_files, similarities[top5_indices]):\n",
    "    print(f\"{file}: схожесть = {sim:.4f}\\n{vec}\\n\")"
   ]
  },
  {
   "cell_type": "code",
   "execution_count": 19,
   "id": "b7d4d63b-e7a1-4e29-8c44-949a9b0aaa94",
   "metadata": {},
   "outputs": [
    {
     "name": "stdout",
     "output_type": "stream",
     "text": [
      "Топ-5 ближайших векторов:\n",
      "0017_1_image_vector.npy: схожесть = 0.4648\n",
      "[0.04808094 0.01988083 0.01407408 ... 0.02472101 0.00159843 0.0276232 ]\n",
      "\n",
      "0002_14_image_vector.npy: схожесть = 0.4619\n",
      "[0.04757209 0.01911085 0.01289003 ... 0.0243462  0.00233077 0.0234149 ]\n",
      "\n",
      "0019_13_image_vector.npy: схожесть = 0.4594\n",
      "[0.04679163 0.01904525 0.01424565 ... 0.02393358 0.00225289 0.02219982]\n",
      "\n",
      "0003_25_image_vector.npy: схожесть = 0.4567\n",
      "[0.04848671 0.01951078 0.01529248 ... 0.02446476 0.00186564 0.02586157]\n",
      "\n",
      "0001_9_image_vector.npy: схожесть = 0.4566\n",
      "[ 0.04822005  0.02021776  0.01590581 ...  0.02482694 -0.00164084\n",
      "  0.027797  ]\n",
      "\n"
     ]
    }
   ],
   "source": [
    "query_vector = image_vectors_array[0].reshape(1, -1)  # Пример: ищем похожие на первый вектор\n",
    "similarities = cosine_similarity(query_vector, model_vectors_array).flatten()\n",
    "\n",
    "top5_indices = np.argsort(similarities)[::-1][1:6]\n",
    "top5_vectors = model_vectors_array[top5_indices]\n",
    "top5_files = [npy_files[i] for i in top5_indices]\n",
    "\n",
    "print(\"Топ-5 ближайших векторов:\")\n",
    "for vec, file, sim in zip(top5_vectors, top5_files, similarities[top5_indices]):\n",
    "    print(f\"{file}: схожесть = {sim:.4f}\\n{vec}\\n\")"
   ]
  },
  {
   "cell_type": "code",
   "execution_count": 24,
   "id": "b70b8c3c-9296-472c-b6f2-d6a505fd0158",
   "metadata": {},
   "outputs": [
    {
     "name": "stdout",
     "output_type": "stream",
     "text": [
      "Топ-5 ближайших векторов:\n",
      "0000_0_image_vector.npy: схожесть = 1.0000\n",
      "1.0\n",
      "\n",
      "0000_10_image_vector.npy: схожесть = 0.6259\n",
      "0.6258577704429626\n",
      "\n",
      "0000_11_image_vector.npy: схожесть = 0.5882\n",
      "0.588249921798706\n",
      "\n",
      "0000_12_image_vector.npy: схожесть = 0.9459\n",
      "0.9459471702575684\n",
      "\n",
      "0000_13_image_vector.npy: схожесть = 0.7868\n",
      "0.7867915630340576\n",
      "\n",
      "0000_14_image_vector.npy: схожесть = 0.6439\n",
      "0.6438932418823242\n",
      "\n",
      "0000_15_image_vector.npy: схожесть = 0.7883\n",
      "0.7883498668670654\n",
      "\n",
      "0000_16_image_vector.npy: схожесть = 0.6156\n",
      "0.6156439781188965\n",
      "\n",
      "0000_17_image_vector.npy: схожесть = 0.6164\n",
      "0.6164241433143616\n",
      "\n",
      "0000_18_image_vector.npy: схожесть = 0.8814\n",
      "0.8813884258270264\n",
      "\n",
      "0000_19_image_vector.npy: схожесть = 0.9047\n",
      "0.9046547412872314\n",
      "\n",
      "0000_1_image_vector.npy: схожесть = 0.8529\n",
      "0.8528616428375244\n",
      "\n",
      "0000_20_image_vector.npy: схожесть = 0.6263\n",
      "0.6263169050216675\n",
      "\n",
      "0000_21_image_vector.npy: схожесть = 0.7837\n",
      "0.7837072610855103\n",
      "\n",
      "0000_22_image_vector.npy: схожесть = 0.6876\n",
      "0.6876150369644165\n",
      "\n",
      "0000_23_image_vector.npy: схожесть = 0.5777\n",
      "0.5776941776275635\n",
      "\n",
      "0000_24_image_vector.npy: схожесть = 0.7276\n",
      "0.7276380658149719\n",
      "\n",
      "0000_25_image_vector.npy: схожесть = 0.7587\n",
      "0.7586597204208374\n",
      "\n",
      "0000_2_image_vector.npy: схожесть = 0.8384\n",
      "0.8383890390396118\n",
      "\n",
      "0000_3_image_vector.npy: схожесть = 0.8218\n",
      "0.8217676877975464\n",
      "\n",
      "0000_4_image_vector.npy: схожесть = 0.6384\n",
      "0.6383548378944397\n",
      "\n",
      "0000_5_image_vector.npy: схожесть = 0.6120\n",
      "0.6119871139526367\n",
      "\n",
      "0000_6_image_vector.npy: схожесть = 0.8503\n",
      "0.8502511382102966\n",
      "\n",
      "0000_7_image_vector.npy: схожесть = 0.8870\n",
      "0.8869842290878296\n",
      "\n",
      "0000_8_image_vector.npy: схожесть = 0.7861\n",
      "0.7861137390136719\n",
      "\n",
      "0000_9_image_vector.npy: схожесть = 0.8792\n",
      "0.8792004585266113\n",
      "\n"
     ]
    }
   ],
   "source": [
    "query_vector = image_vectors_array[0].reshape(1, -1)  # Пример: ищем похожие на первый вектор\n",
    "similarities = cosine_similarity(query_vector, image_vectors_array).flatten()\n",
    "\n",
    "top5_vectors = similarities[:26]\n",
    "top5_files = [npy_files[i] for i in range(0, 26)]\n",
    "\n",
    "print(\"Топ-5 ближайших векторов:\")\n",
    "for vec, file, sim in zip(top5_vectors, top5_files, similarities[:26]):\n",
    "    print(f\"{file}: схожесть = {sim:.4f}\\n{vec}\\n\")"
   ]
  },
  {
   "cell_type": "code",
   "execution_count": null,
   "id": "ca030195-5db1-43fe-972a-a12707148b18",
   "metadata": {},
   "outputs": [],
   "source": []
  }
 ],
 "metadata": {
  "kernelspec": {
   "display_name": "Python 3 (ipykernel)",
   "language": "python",
   "name": "python3"
  },
  "language_info": {
   "codemirror_mode": {
    "name": "ipython",
    "version": 3
   },
   "file_extension": ".py",
   "mimetype": "text/x-python",
   "name": "python",
   "nbconvert_exporter": "python",
   "pygments_lexer": "ipython3",
   "version": "3.13.5"
  }
 },
 "nbformat": 4,
 "nbformat_minor": 5
}
